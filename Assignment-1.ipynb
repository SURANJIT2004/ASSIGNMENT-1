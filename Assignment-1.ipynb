{
 "cells": [
  {
   "cell_type": "code",
   "execution_count": 1,
   "id": "50f6e314",
   "metadata": {},
   "outputs": [
    {
     "name": "stdout",
     "output_type": "stream",
     "text": [
      "suranjit\n"
     ]
    }
   ],
   "source": [
    "print(\"suranjit\")"
   ]
  },
  {
   "cell_type": "code",
   "execution_count": 2,
   "id": "f813b769",
   "metadata": {},
   "outputs": [
    {
     "name": "stdout",
     "output_type": "stream",
     "text": [
      "262.5\n"
     ]
    }
   ],
   "source": [
    "a=25\n",
    "b=10\n",
    "c=15\n",
    "d=2\n",
    "print((a+b)*c/d)"
   ]
  },
  {
   "cell_type": "code",
   "execution_count": 3,
   "id": "23ec2243",
   "metadata": {},
   "outputs": [
    {
     "name": "stdout",
     "output_type": "stream",
     "text": [
      "612.5\n"
     ]
    }
   ],
   "source": [
    "a=25\n",
    "b=10\n",
    "c=15\n",
    "d=2\n",
    "print(((a+b)**d)/d)"
   ]
  },
  {
   "cell_type": "code",
   "execution_count": 4,
   "id": "1173bf85",
   "metadata": {},
   "outputs": [
    {
     "name": "stdout",
     "output_type": "stream",
     "text": [
      "1968.75\n"
     ]
    }
   ],
   "source": [
    "a=25\n",
    "b=10\n",
    "c=15\n",
    "d=2\n",
    "print((a+b)*(c/d)**d)"
   ]
  },
  {
   "cell_type": "code",
   "execution_count": 5,
   "id": "c1cd46e5",
   "metadata": {},
   "outputs": [
    {
     "name": "stdout",
     "output_type": "stream",
     "text": [
      "100.0\n"
     ]
    }
   ],
   "source": [
    "a=25\n",
    "b=10\n",
    "c=15\n",
    "d=2\n",
    "print(a+(b*c)/d)"
   ]
  },
  {
   "cell_type": "code",
   "execution_count": 6,
   "id": "be25beda",
   "metadata": {},
   "outputs": [
    {
     "name": "stdout",
     "output_type": "stream",
     "text": [
      "-85.0\n"
     ]
    }
   ],
   "source": [
    "print(-7*20+8/16*2+54)"
   ]
  },
  {
   "cell_type": "code",
   "execution_count": 7,
   "id": "ccbab659",
   "metadata": {},
   "outputs": [
    {
     "ename": "TypeError",
     "evalue": "unsupported operand type(s) for -: 'str' and 'int'",
     "output_type": "error",
     "traceback": [
      "\u001b[1;31m---------------------------------------------------------------------------\u001b[0m",
      "\u001b[1;31mTypeError\u001b[0m                                 Traceback (most recent call last)",
      "Cell \u001b[1;32mIn[7], line 1\u001b[0m\n\u001b[1;32m----> 1\u001b[0m \u001b[38;5;28mprint\u001b[39m(\u001b[38;5;124m'\u001b[39m\u001b[38;5;124mhello\u001b[39m\u001b[38;5;124m'\u001b[39m\u001b[38;5;241m*\u001b[39m \u001b[38;5;241m2\u001b[39m\u001b[38;5;241m-\u001b[39m\u001b[38;5;241m5\u001b[39m)\n",
      "\u001b[1;31mTypeError\u001b[0m: unsupported operand type(s) for -: 'str' and 'int'"
     ]
    }
   ],
   "source": [
    "print('hello'* 2-5)"
   ]
  },
  {
   "cell_type": "code",
   "execution_count": null,
   "id": "77d892b5",
   "metadata": {},
   "outputs": [],
   "source": [
    "print('hello' * 2 - 5)"
   ]
  },
  {
   "cell_type": "code",
   "execution_count": null,
   "id": "a7fff51d",
   "metadata": {},
   "outputs": [],
   "source": [
    "x=10\n",
    "y=6 \n",
    "z=x&y\n",
    "print(z)\n"
   ]
  },
  {
   "cell_type": "code",
   "execution_count": null,
   "id": "fd4b6813",
   "metadata": {},
   "outputs": [],
   "source": [
    "x=15\n",
    "y=22\n",
    "z=x|y\n",
    "print(z)\n"
   ]
  },
  {
   "cell_type": "code",
   "execution_count": null,
   "id": "bdc456a8",
   "metadata": {},
   "outputs": [],
   "source": [
    "x=-15\n",
    "y=22y\n",
    "z=x&y\n",
    "print(z)\n"
   ]
  },
  {
   "cell_type": "code",
   "execution_count": null,
   "id": "817dd373",
   "metadata": {},
   "outputs": [],
   "source": [
    "print('hi'>'hello' and 'bye'<'Bye')"
   ]
  },
  {
   "cell_type": "code",
   "execution_count": null,
   "id": "3bc470fe",
   "metadata": {},
   "outputs": [],
   "source": [
    "'hi'>'hello'\n"
   ]
  },
  {
   "cell_type": "code",
   "execution_count": null,
   "id": "8904dd80",
   "metadata": {},
   "outputs": [],
   "source": [
    " 'bye'<'Bye'"
   ]
  },
  {
   "cell_type": "code",
   "execution_count": null,
   "id": "598c7c46",
   "metadata": {},
   "outputs": [],
   "source": [
    "x=0\n",
    "y=6\n",
    "z=10\n",
    "print((x<y)or(not(z==y)and(z<x)))"
   ]
  },
  {
   "cell_type": "code",
   "execution_count": null,
   "id": "874c4350",
   "metadata": {},
   "outputs": [],
   "source": [
    "x=1\n",
    "y=1\n",
    "z=1\n",
    "print((x<y)or(not(z==y)and(z<x)))"
   ]
  },
  {
   "cell_type": "code",
   "execution_count": null,
   "id": "4177c974",
   "metadata": {},
   "outputs": [],
   "source": [
    "days=int(input(\"no. of days\"))\n",
    "hours=int(input(\"no.of hrs\"))\n",
    "minutes=int(input(\"no of minutes\"))\n",
    "seconds=int(input(\"no.of seconds\"))\n",
    "S=(days*24*60*60)+(hours*60*60)+(minutes*60)+seconds\n",
    "print(S)"
   ]
  },
  {
   "cell_type": "code",
   "execution_count": null,
   "id": "98828ba0",
   "metadata": {},
   "outputs": [],
   "source": [
    "days=int(input(\"no. of days\"))\n",
    "hours=int(input(\"no.of hrs\"))\n",
    "minutes=int(input(\"no of minutes\"))\n",
    "seconds=int(input(\"no.of seconds\"))\n",
    "S=(days*24*60*60)+(hours*60*60)+(minutes*60)+seconds\n",
    "print(\"Total number of seconds =\",S,\"Seconds\")"
   ]
  },
  {
   "cell_type": "code",
   "execution_count": null,
   "id": "aaedc807",
   "metadata": {},
   "outputs": [],
   "source": [
    "!pip install jupyterthemes"
   ]
  },
  {
   "cell_type": "code",
   "execution_count": 11,
   "id": "cf454e23",
   "metadata": {},
   "outputs": [
    {
     "name": "stdout",
     "output_type": "stream",
     "text": [
      "Available Themes: \n",
      "   chesterish\n",
      "   grade3\n",
      "   gruvboxd\n",
      "   gruvboxl\n",
      "   monokai\n",
      "   oceans16\n",
      "   onedork\n",
      "   solarizedd\n",
      "   solarizedl\n"
     ]
    }
   ],
   "source": [
    "!jt -l"
   ]
  },
  {
   "cell_type": "code",
   "execution_count": 12,
   "id": "e8c7a778",
   "metadata": {},
   "outputs": [],
   "source": [
    "!jt -t  oceans16"
   ]
  }
 ],
 "metadata": {
  "kernelspec": {
   "display_name": "Python 3 (ipykernel)",
   "language": "python",
   "name": "python3"
  },
  "language_info": {
   "codemirror_mode": {
    "name": "ipython",
    "version": 3
   },
   "file_extension": ".py",
   "mimetype": "text/x-python",
   "name": "python",
   "nbconvert_exporter": "python",
   "pygments_lexer": "ipython3",
   "version": "3.11.5"
  }
 },
 "nbformat": 4,
 "nbformat_minor": 5
}
