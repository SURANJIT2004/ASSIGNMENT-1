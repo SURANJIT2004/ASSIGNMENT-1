{
 "cells": [
  {
   "cell_type": "code",
   "execution_count": 1,
   "id": "ef19e789",
   "metadata": {},
   "outputs": [
    {
     "name": "stdout",
     "output_type": "stream",
     "text": [
      "True\n"
     ]
    }
   ],
   "source": [
    "x=0\n",
    "y=6\n",
    "z=10\n",
    "print((x<y)or(not(z==y)and(z<x)))"
   ]
  },
  {
   "cell_type": "code",
   "execution_count": 2,
   "id": "791ce05f",
   "metadata": {},
   "outputs": [
    {
     "name": "stdout",
     "output_type": "stream",
     "text": [
      "False\n"
     ]
    }
   ],
   "source": [
    "x=1\n",
    "y=1\n",
    "z=1\n",
    "print((x<y)or(not(z==y)and(z<x)))"
   ]
  },
  {
   "cell_type": "code",
   "execution_count": 3,
   "id": "e6172268",
   "metadata": {},
   "outputs": [
    {
     "name": "stdout",
     "output_type": "stream",
     "text": [
      "-85.0\n"
     ]
    }
   ],
   "source": [
    "print(-7 * 20 + 8 / 16 * 2 + 54)"
   ]
  },
  {
   "cell_type": "code",
   "execution_count": 4,
   "id": "96243eb9",
   "metadata": {},
   "outputs": [
    {
     "name": "stdout",
     "output_type": "stream",
     "text": [
      "2\n"
     ]
    }
   ],
   "source": [
    "print(7 ** 2 // 9 % 3)"
   ]
  },
  {
   "cell_type": "code",
   "execution_count": 5,
   "id": "8b961b2e",
   "metadata": {},
   "outputs": [
    {
     "name": "stdout",
     "output_type": "stream",
     "text": [
      "14.6\n"
     ]
    }
   ],
   "source": [
    "print((7 - 4 * 2) * 10 / 5 ** 2 + 15 )"
   ]
  },
  {
   "cell_type": "code",
   "execution_count": 6,
   "id": "fbddaeb2",
   "metadata": {},
   "outputs": [
    {
     "name": "stdout",
     "output_type": "stream",
     "text": [
      "-25\n"
     ]
    }
   ],
   "source": [
    "print(5 % 10 + 10 -25 * 8 //5)"
   ]
  },
  {
   "cell_type": "code",
   "execution_count": 7,
   "id": "1d745739",
   "metadata": {},
   "outputs": [
    {
     "ename": "TypeError",
     "evalue": "unsupported operand type(s) for -: 'str' and 'int'",
     "output_type": "error",
     "traceback": [
      "\u001b[1;31m---------------------------------------------------------------------------\u001b[0m",
      "\u001b[1;31mTypeError\u001b[0m                                 Traceback (most recent call last)",
      "Cell \u001b[1;32mIn[7], line 1\u001b[0m\n\u001b[1;32m----> 1\u001b[0m \u001b[38;5;28mprint\u001b[39m(\u001b[38;5;124m'\u001b[39m\u001b[38;5;124mhello\u001b[39m\u001b[38;5;124m'\u001b[39m \u001b[38;5;241m*\u001b[39m \u001b[38;5;241m2\u001b[39m \u001b[38;5;241m-\u001b[39m \u001b[38;5;241m5\u001b[39m)\n",
      "\u001b[1;31mTypeError\u001b[0m: unsupported operand type(s) for -: 'str' and 'int'"
     ]
    }
   ],
   "source": [
    "print('hello' * 2 - 5)"
   ]
  },
  {
   "cell_type": "code",
   "execution_count": 34,
   "id": "f1154bf8",
   "metadata": {},
   "outputs": [
    {
     "name": "stdout",
     "output_type": "stream",
     "text": [
      "False\n"
     ]
    }
   ],
   "source": [
    "print('hi'>'hello' and 'bye'<'Bye')\n"
   ]
  },
  {
   "cell_type": "code",
   "execution_count": 35,
   "id": "686247bb",
   "metadata": {},
   "outputs": [
    {
     "name": "stdout",
     "output_type": "stream",
     "text": [
      "True\n"
     ]
    }
   ],
   "source": [
    "print('hi'>'hello' or 'bye'<'Bye')"
   ]
  },
  {
   "cell_type": "code",
   "execution_count": 36,
   "id": "a763b3e2",
   "metadata": {},
   "outputs": [
    {
     "name": "stdout",
     "output_type": "stream",
     "text": [
      "False\n"
     ]
    }
   ],
   "source": [
    "print(7>8 or 5<6 and 'I am fine'>'I am not fine')"
   ]
  },
  {
   "cell_type": "code",
   "execution_count": 37,
   "id": "fc51c46e",
   "metadata": {},
   "outputs": [
    {
     "name": "stdout",
     "output_type": "stream",
     "text": [
      "True\n"
     ]
    }
   ],
   "source": [
    "print(10!=9 and 29>=29)"
   ]
  },
  {
   "cell_type": "code",
   "execution_count": 38,
   "id": "7ced323a",
   "metadata": {},
   "outputs": [
    {
     "name": "stdout",
     "output_type": "stream",
     "text": [
      "True\n"
     ]
    }
   ],
   "source": [
    "print(10!=9 and 29>=29 and 'hi'>'hello' or 'bye' < 'Bye' and 7<=2.5)"
   ]
  },
  {
   "cell_type": "code",
   "execution_count": 39,
   "id": "9bdb07f2",
   "metadata": {},
   "outputs": [
    {
     "name": "stdout",
     "output_type": "stream",
     "text": [
      "True\n"
     ]
    }
   ],
   "source": [
    "print(5%10+10<50 and 29>=29)"
   ]
  },
  {
   "cell_type": "code",
   "execution_count": 40,
   "id": "c3486c36",
   "metadata": {},
   "outputs": [
    {
     "name": "stdout",
     "output_type": "stream",
     "text": [
      "False\n"
     ]
    }
   ],
   "source": [
    "print(7**2 <=5//9%3 or 'bye' < 'Bye')"
   ]
  },
  {
   "cell_type": "code",
   "execution_count": 41,
   "id": "85de88c2",
   "metadata": {},
   "outputs": [
    {
     "name": "stdout",
     "output_type": "stream",
     "text": [
      "False\n"
     ]
    }
   ],
   "source": [
    "print(5%10<10 and -25>1*8//5)"
   ]
  },
  {
   "cell_type": "code",
   "execution_count": 42,
   "id": "834b8bf8",
   "metadata": {},
   "outputs": [
    {
     "name": "stdout",
     "output_type": "stream",
     "text": [
      "True\n"
     ]
    }
   ],
   "source": [
    "print(7**2//4+5>8 or 5!=6)"
   ]
  },
  {
   "cell_type": "code",
   "execution_count": 43,
   "id": "18ee29ab",
   "metadata": {},
   "outputs": [
    {
     "name": "stdout",
     "output_type": "stream",
     "text": [
      "False\n"
     ]
    }
   ],
   "source": [
    "print(7/4<6 and 'I am fine'> 'I am not fine')"
   ]
  },
  {
   "cell_type": "code",
   "execution_count": 44,
   "id": "e87708da",
   "metadata": {},
   "outputs": [
    {
     "name": "stdout",
     "output_type": "stream",
     "text": [
      "True\n"
     ]
    }
   ],
   "source": [
    "print(10+6*2**2!=9//4-3 and 29>=29/9)"
   ]
  },
  {
   "cell_type": "code",
   "execution_count": 45,
   "id": "2e315c40",
   "metadata": {},
   "outputs": [
    {
     "name": "stdout",
     "output_type": "stream",
     "text": [
      "True\n"
     ]
    }
   ],
   "source": [
    "print('hello'* 5> 'hello' or 'bye' < 'Bye')"
   ]
  },
  {
   "cell_type": "code",
   "execution_count": 46,
   "id": "5b35cf13",
   "metadata": {},
   "outputs": [
    {
     "name": "stdout",
     "output_type": "stream",
     "text": [
      "6\n"
     ]
    }
   ],
   "source": [
    "print(15 & 22)"
   ]
  },
  {
   "cell_type": "code",
   "execution_count": 47,
   "id": "e55dce83",
   "metadata": {},
   "outputs": [
    {
     "name": "stdout",
     "output_type": "stream",
     "text": [
      "31\n"
     ]
    }
   ],
   "source": [
    "print(15|22)"
   ]
  },
  {
   "cell_type": "code",
   "execution_count": 48,
   "id": "bf59c506",
   "metadata": {},
   "outputs": [
    {
     "name": "stdout",
     "output_type": "stream",
     "text": [
      "16\n"
     ]
    }
   ],
   "source": [
    "print(-15&22)"
   ]
  },
  {
   "cell_type": "code",
   "execution_count": 49,
   "id": "311a0a05",
   "metadata": {},
   "outputs": [
    {
     "name": "stdout",
     "output_type": "stream",
     "text": [
      "-9\n"
     ]
    }
   ],
   "source": [
    "print(-15|22)"
   ]
  },
  {
   "cell_type": "code",
   "execution_count": 50,
   "id": "ad55581d",
   "metadata": {},
   "outputs": [
    {
     "name": "stdout",
     "output_type": "stream",
     "text": [
      "-16\n"
     ]
    }
   ],
   "source": [
    "print(~15)"
   ]
  },
  {
   "cell_type": "code",
   "execution_count": 51,
   "id": "4d6ae080",
   "metadata": {},
   "outputs": [
    {
     "name": "stdout",
     "output_type": "stream",
     "text": [
      "-23\n"
     ]
    }
   ],
   "source": [
    "print(~22)"
   ]
  },
  {
   "cell_type": "code",
   "execution_count": 52,
   "id": "e741a4ec",
   "metadata": {},
   "outputs": [
    {
     "name": "stdout",
     "output_type": "stream",
     "text": [
      "19\n"
     ]
    }
   ],
   "source": [
    "print(~-20)"
   ]
  },
  {
   "cell_type": "code",
   "execution_count": 53,
   "id": "2e8870ff",
   "metadata": {},
   "outputs": [
    {
     "name": "stdout",
     "output_type": "stream",
     "text": [
      "25\n"
     ]
    }
   ],
   "source": [
    "print(15^22)"
   ]
  },
  {
   "cell_type": "code",
   "execution_count": 54,
   "id": "da383dee",
   "metadata": {},
   "outputs": [
    {
     "name": "stdout",
     "output_type": "stream",
     "text": [
      "64\n"
     ]
    }
   ],
   "source": [
    "print(8<<3)"
   ]
  },
  {
   "cell_type": "code",
   "execution_count": 55,
   "id": "894512f1",
   "metadata": {},
   "outputs": [
    {
     "name": "stdout",
     "output_type": "stream",
     "text": [
      "5\n"
     ]
    }
   ],
   "source": [
    "print(40>>3)"
   ]
  },
  {
   "cell_type": "code",
   "execution_count": 56,
   "id": "0e7facbd",
   "metadata": {},
   "outputs": [],
   "source": [
    "a=6"
   ]
  },
  {
   "cell_type": "code",
   "execution_count": 57,
   "id": "1bfa3124",
   "metadata": {},
   "outputs": [
    {
     "data": {
      "text/plain": [
       "True"
      ]
     },
     "execution_count": 57,
     "metadata": {},
     "output_type": "execute_result"
    }
   ],
   "source": [
    "a==6\n"
   ]
  },
  {
   "cell_type": "code",
   "execution_count": 58,
   "id": "f1bda416",
   "metadata": {},
   "outputs": [
    {
     "data": {
      "text/plain": [
       "False"
      ]
     },
     "execution_count": 58,
     "metadata": {},
     "output_type": "execute_result"
    }
   ],
   "source": [
    "a<5.9"
   ]
  },
  {
   "cell_type": "code",
   "execution_count": 59,
   "id": "90bb671c",
   "metadata": {},
   "outputs": [
    {
     "data": {
      "text/plain": [
       "True"
      ]
     },
     "execution_count": 59,
     "metadata": {},
     "output_type": "execute_result"
    }
   ],
   "source": [
    "\n",
    "a>5.9"
   ]
  },
  {
   "cell_type": "code",
   "execution_count": 60,
   "id": "c39d8509",
   "metadata": {},
   "outputs": [],
   "source": [
    "b=7"
   ]
  },
  {
   "cell_type": "code",
   "execution_count": 61,
   "id": "bc30b864",
   "metadata": {},
   "outputs": [
    {
     "data": {
      "text/plain": [
       "1.1666666666666667"
      ]
     },
     "execution_count": 61,
     "metadata": {},
     "output_type": "execute_result"
    }
   ],
   "source": [
    "b/6"
   ]
  },
  {
   "cell_type": "code",
   "execution_count": 62,
   "id": "3e1bdcb4",
   "metadata": {},
   "outputs": [
    {
     "data": {
      "text/plain": [
       "1"
      ]
     },
     "execution_count": 62,
     "metadata": {},
     "output_type": "execute_result"
    }
   ],
   "source": [
    "b//6\n"
   ]
  },
  {
   "cell_type": "code",
   "execution_count": 63,
   "id": "f20aac5f",
   "metadata": {},
   "outputs": [
    {
     "data": {
      "text/plain": [
       "1.75"
      ]
     },
     "execution_count": 63,
     "metadata": {},
     "output_type": "execute_result"
    }
   ],
   "source": [
    "b/4"
   ]
  },
  {
   "cell_type": "code",
   "execution_count": 64,
   "id": "97215dbd",
   "metadata": {},
   "outputs": [
    {
     "data": {
      "text/plain": [
       "3"
      ]
     },
     "execution_count": 64,
     "metadata": {},
     "output_type": "execute_result"
    }
   ],
   "source": [
    "b%4"
   ]
  },
  {
   "cell_type": "code",
   "execution_count": 65,
   "id": "ad5e05a2",
   "metadata": {},
   "outputs": [
    {
     "data": {
      "text/plain": [
       "0"
      ]
     },
     "execution_count": 65,
     "metadata": {},
     "output_type": "execute_result"
    }
   ],
   "source": [
    "b%7\n",
    "\n"
   ]
  },
  {
   "cell_type": "code",
   "execution_count": 30,
   "id": "86e293fe",
   "metadata": {},
   "outputs": [
    {
     "data": {
      "text/plain": [
       "4"
      ]
     },
     "execution_count": 30,
     "metadata": {},
     "output_type": "execute_result"
    }
   ],
   "source": [
    "b*2"
   ]
  },
  {
   "cell_type": "code",
   "execution_count": 29,
   "id": "31c7df45",
   "metadata": {},
   "outputs": [
    {
     "data": {
      "text/plain": [
       "4"
      ]
     },
     "execution_count": 29,
     "metadata": {},
     "output_type": "execute_result"
    }
   ],
   "source": [
    "b**2"
   ]
  },
  {
   "cell_type": "code",
   "execution_count": 27,
   "id": "e47425e4",
   "metadata": {},
   "outputs": [
    {
     "data": {
      "text/plain": [
       "-15"
      ]
     },
     "execution_count": 27,
     "metadata": {},
     "output_type": "execute_result"
    }
   ],
   "source": [
    "-15"
   ]
  },
  {
   "cell_type": "code",
   "execution_count": 26,
   "id": "f9216666",
   "metadata": {},
   "outputs": [
    {
     "data": {
      "text/plain": [
       "14"
      ]
     },
     "execution_count": 26,
     "metadata": {},
     "output_type": "execute_result"
    }
   ],
   "source": [
    "~-15"
   ]
  },
  {
   "cell_type": "code",
   "execution_count": 66,
   "id": "685a4da5",
   "metadata": {},
   "outputs": [],
   "source": [
    "x+=x+10"
   ]
  },
  {
   "cell_type": "code",
   "execution_count": 67,
   "id": "06f1cbe5",
   "metadata": {},
   "outputs": [],
   "source": [
    "x=10\n",
    "y=x+10"
   ]
  },
  {
   "cell_type": "code",
   "execution_count": 68,
   "id": "9160ce13",
   "metadata": {},
   "outputs": [
    {
     "name": "stdout",
     "output_type": "stream",
     "text": [
      "Enter Width :1\n",
      "Enter Height: 1\n",
      "Area = 1.0\n"
     ]
    }
   ],
   "source": [
    "w= float(input(\"Enter Width :\"))\n",
    "h=  float(input(\"Enter Height: \"))\n",
    "result = w * h\n",
    "print(\"Area =\" , result)"
   ]
  },
  {
   "cell_type": "code",
   "execution_count": 69,
   "id": "7105c767",
   "metadata": {},
   "outputs": [
    {
     "name": "stdout",
     "output_type": "stream",
     "text": [
      "Enter the no of Widgets: 3\n",
      "Enter the no of Gizmos: 3\n",
      "The total weight is 561 grams.\n"
     ]
    }
   ],
   "source": [
    "widgets = int(input(\"Enter the no of Widgets: \"))\n",
    "gizmos = int(input(\"Enter the no of Gizmos: \"))\n",
    "\n",
    "total = (widgets*75) + (gizmos*112)\n",
    "\n",
    "print(\"The total weight is\",total,\"grams.\")"
   ]
  },
  {
   "cell_type": "code",
   "execution_count": 20,
   "id": "61b2d8a5",
   "metadata": {},
   "outputs": [
    {
     "name": "stdout",
     "output_type": "stream",
     "text": [
      "Enter the height in (m): 5\n",
      "The final result is 9.899494936611665\n"
     ]
    }
   ],
   "source": [
    "import math\n",
    "height = float(input(\"Enter the height in (m): \"))\n",
    "\n",
    "acceleration = 9.8\n",
    "v_initial = 0\n",
    "\n",
    "\n",
    "v_final = math.sqrt(math.pow(v_initial,2) + 2*acceleration*height)\n",
    "\n",
    "print(\"The final result is\",v_final)"
   ]
  },
  {
   "cell_type": "code",
   "execution_count": 19,
   "id": "7d95c3d7",
   "metadata": {},
   "outputs": [
    {
     "name": "stdout",
     "output_type": "stream",
     "text": [
      "Enter number 1: 12\n",
      "Enter number 2: 13\n",
      "Enter number 3: 15\n",
      "Unsorted Order:  12 13 15\n",
      "Sorted Order:  12 13 15\n"
     ]
    }
   ],
   "source": [
    "num_1 = int(input(\"Enter number 1: \"))\n",
    "num_2 = int(input(\"Enter number 2: \"))\n",
    "num_3 = int(input(\"Enter number 3: \"))\n",
    "\n",
    "largest = max(max(num_1,num_2),num_3)\n",
    "smallest = min(min(num_1,num_2),num_3)\n",
    "sum_of_all = num_3 + num_2 + num_1\n",
    "mid = sum_of_all - (largest + smallest)\n",
    "\n",
    "print(\"Unsorted Order: \",num_1,num_2,num_3)\n",
    "print(\"Sorted Order: \",smallest, mid,largest)"
   ]
  },
  {
   "cell_type": "code",
   "execution_count": 1,
   "id": "cb304051",
   "metadata": {},
   "outputs": [
    {
     "name": "stdout",
     "output_type": "stream",
     "text": [
      "enter a four digit number: 1234\n",
      "Sum of Digit= 10\n"
     ]
    }
   ],
   "source": [
    "num=input(\"enter a four digit number: \")\n",
    "addition=int(num[0])+int(num[1])+int(num[2])+int(num[3])\n",
    "print(\"Sum of Digit=\",addition)"
   ]
  },
  {
   "cell_type": "code",
   "execution_count": 17,
   "id": "b9a631bc",
   "metadata": {},
   "outputs": [
    {
     "name": "stdout",
     "output_type": "stream",
     "text": [
      "suranjit\n"
     ]
    }
   ],
   "source": [
    "name=(\"SURANJIT\")\n",
    "print(name.lower())"
   ]
  },
  {
   "cell_type": "code",
   "execution_count": 16,
   "id": "16aacb74",
   "metadata": {},
   "outputs": [
    {
     "name": "stdout",
     "output_type": "stream",
     "text": [
      "-1\n"
     ]
    }
   ],
   "source": [
    "name=\"Suranjit Shaw\"\n",
    "name=name.find('U')\n",
    "print(name)"
   ]
  },
  {
   "cell_type": "code",
   "execution_count": 15,
   "id": "5af5c805",
   "metadata": {},
   "outputs": [
    {
     "name": "stdout",
     "output_type": "stream",
     "text": [
      "Suranjit Saw\n"
     ]
    }
   ],
   "source": [
    "name=\"Suranjit Shaw\"\n",
    "print(name.replace(\"Shaw\",\"Saw\"))"
   ]
  },
  {
   "cell_type": "code",
   "execution_count": 14,
   "id": "a5a9d8d5",
   "metadata": {},
   "outputs": [
    {
     "name": "stdout",
     "output_type": "stream",
     "text": [
      "True\n"
     ]
    }
   ],
   "source": [
    "name=\"Suranjit Shaw\"\n",
    "print('Sur' in name)"
   ]
  },
  {
   "cell_type": "code",
   "execution_count": 13,
   "id": "d7256736",
   "metadata": {},
   "outputs": [
    {
     "name": "stdout",
     "output_type": "stream",
     "text": [
      "True\n"
     ]
    }
   ],
   "source": [
    "print(3!=2) "
   ]
  },
  {
   "cell_type": "code",
   "execution_count": 12,
   "id": "2fa41dc5",
   "metadata": {},
   "outputs": [
    {
     "name": "stdout",
     "output_type": "stream",
     "text": [
      "True\n"
     ]
    }
   ],
   "source": [
    "print(not 3>4)"
   ]
  },
  {
   "cell_type": "code",
   "execution_count": 11,
   "id": "2e0edd07",
   "metadata": {},
   "outputs": [
    {
     "name": "stdout",
     "output_type": "stream",
     "text": [
      "Enter the age: 6\n",
      " 'You are in School ''\n"
     ]
    }
   ],
   "source": [
    "age=int(input(\"Enter the age: \"))\n",
    "if age>=18:\n",
    "    print(\" 'You are Adult and can Cast your Vote' \")\n",
    "elif age>=3 and age<18:\n",
    "    print(\" 'You are in School ''\")\n",
    "else:\n",
    "    print(\" 'You are kid' \")\n"
   ]
  },
  {
   "cell_type": "code",
   "execution_count": 10,
   "id": "8ef7ba58",
   "metadata": {},
   "outputs": [
    {
     "name": "stdout",
     "output_type": "stream",
     "text": [
      "Enter first no.1\n",
      "Enter second no.2\n",
      "Enter the operator+\n",
      "3\n"
     ]
    }
   ],
   "source": [
    "a=int(input(\"Enter first no.\"))\n",
    "b=int(input(\"Enter second no.\")) \n",
    "operator=input(\"Enter the operator\")\n",
    "if operator==\"+\":\n",
    "    print(a+b)\n",
    "elif operator==\"-\":\n",
    "    print(a-b)    \n",
    "elif operator==\"*\":\n",
    "    print(a*b)     \n",
    "elif operator==\"/\":\n",
    "    print(a/b) \n",
    "elif operator==\"%\":\n",
    "    print(a%b)\n",
    "else:\n",
    "    print(' \"Invalid Operator\" ')"
   ]
  },
  {
   "cell_type": "code",
   "execution_count": 8,
   "id": "3af75656",
   "metadata": {},
   "outputs": [
    {
     "name": "stdout",
     "output_type": "stream",
     "text": [
      "range(0, 9)\n"
     ]
    }
   ],
   "source": [
    "number=range(9)\n",
    "print(number)"
   ]
  },
  {
   "cell_type": "code",
   "execution_count": 40,
   "id": "0ac36380",
   "metadata": {},
   "outputs": [
    {
     "name": "stdout",
     "output_type": "stream",
     "text": [
      "Enter the Starting point1\n",
      "How many times you want to print ?6\n",
      "1\n",
      "2\n",
      "3\n",
      "4\n",
      "5\n",
      "6\n"
     ]
    }
   ],
   "source": [
    "i=int(input(\"Enter the Starting point\"))\n",
    "n=int(input(\"How many times you want to print ?\"))\n",
    "while i<=n:\n",
    "    print(i) \n",
    "    i=i+1\n",
    "    "
   ]
  },
  {
   "cell_type": "code",
   "execution_count": 87,
   "id": "1b2cc30a",
   "metadata": {},
   "outputs": [
    {
     "name": "stdout",
     "output_type": "stream",
     "text": [
      "How many times you want to print ?10\n",
      "*\n",
      "**\n",
      "***\n",
      "****\n",
      "*****\n",
      "******\n",
      "*******\n",
      "********\n",
      "*********\n",
      "**********\n"
     ]
    }
   ],
   "source": [
    "# triangle pattern (upper)\n",
    "\n",
    "i=1\n",
    "n=int(input(\"How many times you want to print ?\"))\n",
    "while i<=n:\n",
    "    print(i * \"*\") \n",
    "    \n",
    "    i=i+1\n",
    "    "
   ]
  },
  {
   "cell_type": "code",
   "execution_count": 86,
   "id": "93b2938f",
   "metadata": {},
   "outputs": [
    {
     "name": "stdout",
     "output_type": "stream",
     "text": [
      "Enter the Starting point10\n",
      "How many times you want to print ?0\n",
      "**********\n",
      "*********\n",
      "********\n",
      "*******\n",
      "******\n",
      "*****\n",
      "****\n",
      "***\n",
      "**\n",
      "*\n",
      "\n"
     ]
    }
   ],
   "source": [
    "# triangle pattern (lower)\n",
    "i=int(input(\"Enter the Starting point\"))\n",
    "n=int(input(\"How many times you want to print ?\"))\n",
    "while i>=n:\n",
    "    print(i * \"*\") \n",
    "    \n",
    "    i=i-1"
   ]
  },
  {
   "cell_type": "code",
   "execution_count": 94,
   "id": "2c05c29e",
   "metadata": {},
   "outputs": [
    {
     "name": "stdout",
     "output_type": "stream",
     "text": [
      "1\n",
      "2\n",
      "3\n",
      "4\n",
      "5\n"
     ]
    }
   ],
   "source": [
    "# For loop \n",
    "\n",
    "for item in range(5):\n",
    "    print(item + 1)\n",
    "    \n",
    "\n"
   ]
  },
  {
   "cell_type": "code",
   "execution_count": 95,
   "id": "a4dc5db1",
   "metadata": {},
   "outputs": [
    {
     "name": "stdout",
     "output_type": "stream",
     "text": [
      "[65, 56, 23, 98, 56, 25, 36, 32, 100, 100, 23, 12, 99, 98, 58]\n"
     ]
    }
   ],
   "source": [
    "# LIST\n",
    "\n",
    "marks=[65,56,23,98,56,25,36,32,100,100,23,12,99,98,58]\n",
    "print(marks)"
   ]
  },
  {
   "cell_type": "code",
   "execution_count": 98,
   "id": "f244098f",
   "metadata": {},
   "outputs": [
    {
     "name": "stdout",
     "output_type": "stream",
     "text": [
      "58\n"
     ]
    }
   ],
   "source": [
    "# LIST (For particular index)\n",
    "\n",
    "marks=[65,56,23,98,56,25,36,32,100,100,23,12,99,98,58]\n",
    "print(marks [-1])"
   ]
  },
  {
   "cell_type": "code",
   "execution_count": 99,
   "id": "9cd30f25",
   "metadata": {},
   "outputs": [
    {
     "name": "stdout",
     "output_type": "stream",
     "text": [
      "[65, 56, 23, 98, 56]\n"
     ]
    }
   ],
   "source": [
    "# LIST (For particular Range)\n",
    "\n",
    "marks=[65,56,23,98,56,25,36,32,100,100,23,12,99,98,58]\n",
    "print(marks [0:5])"
   ]
  },
  {
   "cell_type": "code",
   "execution_count": 100,
   "id": "588eaea8",
   "metadata": {},
   "outputs": [
    {
     "name": "stdout",
     "output_type": "stream",
     "text": [
      "65\n",
      "56\n",
      "23\n",
      "98\n",
      "56\n",
      "25\n",
      "36\n",
      "32\n",
      "100\n",
      "100\n",
      "23\n",
      "12\n",
      "99\n",
      "98\n",
      "58\n"
     ]
    }
   ],
   "source": [
    "# LIST (Using For Loop)\n",
    "\n",
    "marks=[65,56,23,98,56,25,36,32,100,100,23,12,99,98,58]\n",
    "for Score in marks:\n",
    "    print(Score)"
   ]
  },
  {
   "cell_type": "code",
   "execution_count": 102,
   "id": "209b8a33",
   "metadata": {},
   "outputs": [
    {
     "name": "stdout",
     "output_type": "stream",
     "text": [
      "[65, 56, 23, 98, 56, 25, 36, 32, 100, 100, 23, 12, 99, 98, 58, 0]\n"
     ]
    }
   ],
   "source": [
    "# LIST (Adding a new No. to the list)\n",
    "\n",
    "marks=[65,56,23,98,56,25,36,32,100,100,23,12,99,98,58]\n",
    "marks.append(0)\n",
    "print(marks)"
   ]
  },
  {
   "cell_type": "code",
   "execution_count": 103,
   "id": "eab055e2",
   "metadata": {},
   "outputs": [
    {
     "name": "stdout",
     "output_type": "stream",
     "text": [
      "[65, 100, 56, 23, 98, 56, 25, 36, 32, 100, 100, 23, 12, 99, 98, 58]\n"
     ]
    }
   ],
   "source": [
    "# LIST (Adding at any index)\n",
    "\n",
    "marks=[65,56,23,98,56,25,36,32,100,100,23,12,99,98,58]\n",
    "marks.insert(1,100)\n",
    "print(marks)"
   ]
  },
  {
   "cell_type": "code",
   "execution_count": 104,
   "id": "7a35ef76",
   "metadata": {},
   "outputs": [
    {
     "name": "stdout",
     "output_type": "stream",
     "text": [
      "True\n"
     ]
    }
   ],
   "source": [
    "# LIST (Existance of a Number)\n",
    "\n",
    "marks=[65,56,23,98,56,25,36,32,100,100,23,12,99,98,58]\n",
    "print(100 in marks)"
   ]
  },
  {
   "cell_type": "code",
   "execution_count": 105,
   "id": "6ac2cbea",
   "metadata": {},
   "outputs": [
    {
     "name": "stdout",
     "output_type": "stream",
     "text": [
      "15\n"
     ]
    }
   ],
   "source": [
    "# LIST (Length/Size of the List)\n",
    "\n",
    "marks=[65,56,23,98,56,25,36,32,100,100,23,12,99,98,58]\n",
    "print(len(marks))"
   ]
  },
  {
   "cell_type": "code",
   "execution_count": 2,
   "id": "d1d9983b",
   "metadata": {},
   "outputs": [
    {
     "name": "stdout",
     "output_type": "stream",
     "text": [
      "65\n",
      "56\n",
      "23\n",
      "98\n",
      "56\n",
      "25\n",
      "36\n",
      "32\n",
      "100\n",
      "100\n",
      "23\n",
      "12\n",
      "99\n",
      "98\n",
      "58\n"
     ]
    }
   ],
   "source": [
    "# LIST (Using While loop)\n",
    "\n",
    "marks=[65,56,23,98,56,25,36,32,100,100,23,12,99,98,58]\n",
    "i=0\n",
    "while i< len(marks):\n",
    "    print(marks[i])\n",
    "    i=i+1"
   ]
  },
  {
   "cell_type": "code",
   "execution_count": 8,
   "id": "f5812bcb",
   "metadata": {},
   "outputs": [
    {
     "name": "stdout",
     "output_type": "stream",
     "text": [
      "[]\n"
     ]
    }
   ],
   "source": [
    "# LIST (CLear List)\n",
    "# output will be empty\n",
    "\n",
    "marks=[65,56,23,98,56,25,36,32,100,100,23,12,99,98,58]\n",
    "i=0\n",
    "while i< len(marks):\n",
    "    \n",
    "    i=i+1\n",
    "marks.clear()    \n",
    "print(marks)"
   ]
  },
  {
   "cell_type": "code",
   "execution_count": 20,
   "id": "b7c3ec08",
   "metadata": {},
   "outputs": [
    {
     "name": "stdout",
     "output_type": "stream",
     "text": [
      "Sura\n",
      "Satya\n",
      "Bhusa\n",
      "Nihar\n"
     ]
    }
   ],
   "source": [
    "# Break and Continue\n",
    "\n",
    "\n",
    "# BREAK\n",
    "\n",
    "Students=[\"Sura\" , \"Satya\" , \"Bhusa\" , \"Nihar\" , \"Raj\" , \"Null Soul\" ]\n",
    "\n",
    "for student in Students:\n",
    "    if student == \"Raj\":\n",
    "          break\n",
    "    print(student)   \n",
    "       "
   ]
  },
  {
   "cell_type": "code",
   "execution_count": 22,
   "id": "b3e0d093",
   "metadata": {},
   "outputs": [
    {
     "name": "stdout",
     "output_type": "stream",
     "text": [
      "Sura\n",
      "Satya\n",
      "Bhusa\n",
      "Nihar\n",
      "Raj\n"
     ]
    }
   ],
   "source": [
    "# Break and Continue\n",
    "\n",
    "\n",
    "# CONTINUE\n",
    "\n",
    "Students=[\"Sura\" , \"Satya\" , \"Bhusa\" , \"Nihar\" , \"Raj\" , \"Null Soul\" ]\n",
    "\n",
    "for student in Students:\n",
    "    if student == \"Null Soul\":\n",
    "          continue\n",
    "    print(student)   "
   ]
  },
  {
   "cell_type": "code",
   "execution_count": 23,
   "id": "6f91e81c",
   "metadata": {},
   "outputs": [
    {
     "name": "stdout",
     "output_type": "stream",
     "text": [
      "3\n"
     ]
    }
   ],
   "source": [
    "# TUPLE\n",
    "\n",
    "\n",
    "# Counting the N0. of repetation\n",
    "\n",
    "marks=(65,56,23,98,32,32,56,100,1,56,25,36,32,100,100,23,12,99,98,58)\n",
    "print(marks.count(100))"
   ]
  },
  {
   "cell_type": "code",
   "execution_count": 24,
   "id": "f4347a86",
   "metadata": {},
   "outputs": [
    {
     "name": "stdout",
     "output_type": "stream",
     "text": [
      "7\n"
     ]
    }
   ],
   "source": [
    "# TUPLE\n",
    "\n",
    "\n",
    "# Check of the Index no.\n",
    "\n",
    "marks=(65,56,23,98,32,32,56,100,1,56,25,36,32,100,100,23,12,99,98,58)\n",
    "print(marks.index(100))"
   ]
  },
  {
   "cell_type": "code",
   "execution_count": 25,
   "id": "226e027c",
   "metadata": {},
   "outputs": [
    {
     "name": "stdout",
     "output_type": "stream",
     "text": [
      "{32, 65, 98, 1, 100, 36, 99, 12, 23, 56, 25, 58}\n"
     ]
    }
   ],
   "source": [
    "# SET\n",
    "\n",
    "\n",
    "marks={65,56,23,98,32,32,56,100,1,56,25,36,32,100,100,23,12,99,98,58}\n",
    "print(marks)"
   ]
  },
  {
   "cell_type": "code",
   "execution_count": 26,
   "id": "a1844c0c",
   "metadata": {},
   "outputs": [
    {
     "name": "stdout",
     "output_type": "stream",
     "text": [
      "32\n",
      "65\n",
      "98\n",
      "1\n",
      "100\n",
      "36\n",
      "99\n",
      "12\n",
      "23\n",
      "56\n",
      "25\n",
      "58\n"
     ]
    }
   ],
   "source": [
    "# Using FOR Loop\n",
    "\n",
    "marks={65,56,23,98,32,32,56,100,1,56,25,36,32,100,100,23,12,99,98,58}\n",
    "for score in marks:\n",
    "    print(score)"
   ]
  },
  {
   "cell_type": "code",
   "execution_count": 27,
   "id": "a34b2054",
   "metadata": {},
   "outputs": [
    {
     "name": "stdout",
     "output_type": "stream",
     "text": [
      "95\n"
     ]
    }
   ],
   "source": [
    "# DICTIONARY\n",
    "\n",
    "\n",
    "marks={\"english\": 95, \"chemisty\":97}\n",
    "print(marks[\"english\"])"
   ]
  },
  {
   "cell_type": "code",
   "execution_count": 28,
   "id": "115a2922",
   "metadata": {},
   "outputs": [
    {
     "name": "stdout",
     "output_type": "stream",
     "text": [
      "{'english': 95, 'chemisty': 97, 'physics': 99}\n"
     ]
    }
   ],
   "source": [
    "# DICTIONARY\n",
    "\n",
    "# Adding the marks in the dictionary\n",
    "\n",
    "\n",
    "marks={\"english\": 95, \"chemisty\":97}\n",
    "marks[\"physics\"]=99\n",
    "print(marks)"
   ]
  },
  {
   "cell_type": "code",
   "execution_count": 37,
   "id": "5d0dea86",
   "metadata": {},
   "outputs": [
    {
     "name": "stdout",
     "output_type": "stream",
     "text": [
      "MARKS   : {'english': 95, 'chemisty': 94, 'physics': 100}\n",
      "UPDATED : {'english': 100, 'chemisty': 94, 'physics': 100}\n"
     ]
    }
   ],
   "source": [
    "# DICTIONARY\n",
    "\n",
    "# Updating the marks in the dictionary\n",
    "\n",
    "\n",
    "marks={\"english\": 95, \"chemisty\":94}\n",
    "marks[\"physics\"]=100\n",
    "print(\"MARKS   :\",marks)\n",
    "marks[\"english\"]=100 \n",
    "print(\"UPDATED :\",marks)"
   ]
  },
  {
   "cell_type": "code",
   "execution_count": 59,
   "id": "bf397278",
   "metadata": {},
   "outputs": [
    {
     "name": "stdout",
     "output_type": "stream",
     "text": [
      "Harami\n",
      "Null Soul\n"
     ]
    }
   ],
   "source": [
    "\n",
    "# PASS\n",
    "\n",
    "Students=[\"Sura\" , \"Satya\" , \"Bhusa\" , \"Nihar\" , \"Raj\" , \"Null Soul\" ]\n",
    "\n",
    "for student in Students:\n",
    "    if student == \"Null Soul\":\n",
    "        \n",
    "     print(\"Harami\")\n",
    "    pass\n",
    "print(student)\n",
    "  "
   ]
  },
  {
   "cell_type": "code",
   "execution_count": 60,
   "id": "fb234702",
   "metadata": {},
   "outputs": [
    {
     "name": "stdout",
     "output_type": "stream",
     "text": [
      "['__doc__', '__loader__', '__name__', '__package__', '__spec__', 'acos', 'acosh', 'asin', 'asinh', 'atan', 'atan2', 'atanh', 'cbrt', 'ceil', 'comb', 'copysign', 'cos', 'cosh', 'degrees', 'dist', 'e', 'erf', 'erfc', 'exp', 'exp2', 'expm1', 'fabs', 'factorial', 'floor', 'fmod', 'frexp', 'fsum', 'gamma', 'gcd', 'hypot', 'inf', 'isclose', 'isfinite', 'isinf', 'isnan', 'isqrt', 'lcm', 'ldexp', 'lgamma', 'log', 'log10', 'log1p', 'log2', 'modf', 'nan', 'nextafter', 'perm', 'pi', 'pow', 'prod', 'radians', 'remainder', 'sin', 'sinh', 'sqrt', 'tan', 'tanh', 'tau', 'trunc', 'ulp']\n"
     ]
    }
   ],
   "source": [
    "import math\n",
    "print(dir(math))"
   ]
  },
  {
   "cell_type": "code",
   "execution_count": 63,
   "id": "566e8985",
   "metadata": {},
   "outputs": [
    {
     "name": "stdout",
     "output_type": "stream",
     "text": [
      "Enter the No.49\n",
      "Square Root is :  7\n"
     ]
    }
   ],
   "source": [
    "import math\n",
    "n=int(input(\"Enter the No.\"))\n",
    "print(\"Square Root is : \",int(math.sqrt(n)))"
   ]
  },
  {
   "cell_type": "code",
   "execution_count": 78,
   "id": "239386d4",
   "metadata": {},
   "outputs": [
    {
     "name": "stdout",
     "output_type": "stream",
     "text": [
      "Enter the No.1\n",
      "Enter the No.2\n",
      "Enter the No.3\n",
      "Sum_Of_Numbers :\n",
      "6\n"
     ]
    }
   ],
   "source": [
    "def Sum_Of_Numbers(n1,n2,n3):\n",
    "    print(n1+n2+n3)\n",
    "    \n",
    "\n",
    "a=int(input(\"Enter the No.\"))\n",
    "b=int(input(\"Enter the No.\"))\n",
    "c=int(input(\"Enter the No.\"))\n",
    "print(\"Sum_Of_Numbers :\")\n",
    "Sum_Of_Numbers(a,b,c)"
   ]
  }
 ],
 "metadata": {
  "kernelspec": {
   "display_name": "Python 3 (ipykernel)",
   "language": "python",
   "name": "python3"
  },
  "language_info": {
   "codemirror_mode": {
    "name": "ipython",
    "version": 3
   },
   "file_extension": ".py",
   "mimetype": "text/x-python",
   "name": "python",
   "nbconvert_exporter": "python",
   "pygments_lexer": "ipython3",
   "version": "3.11.5"
  }
 },
 "nbformat": 4,
 "nbformat_minor": 5
}
